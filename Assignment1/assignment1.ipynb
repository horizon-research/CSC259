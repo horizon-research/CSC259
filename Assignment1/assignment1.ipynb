{
 "cells": [
  {
   "cell_type": "code",
   "execution_count": 12,
   "id": "2ebc6793-234b-4a1d-bb46-a717b5e0e4f8",
   "metadata": {},
   "outputs": [],
   "source": [
    "from matplotlib.image import imread\n",
    "import numpy as np\n",
    "import matplotlib.pyplot as plt"
   ]
  },
  {
   "cell_type": "markdown",
   "id": "60d992e0-35d9-4685-8e41-b2a01ec73527",
   "metadata": {},
   "source": [
    "# Programming Assignment 1\n",
    "## Due Date: 11:30 AM, September 30th\n",
    "This programming assignment asks you to implement 2D image convolution. The actual implementation shouldn’t take you more than 20 lines of code.\n",
    "\n",
    "## Getting Started\n",
    "1. The function conv2d is the only piece of code you can and should modify. Do not touch anything else!\n",
    "2. We have cooked two convolution kernels/filters for you, one for blurring and the other for sharpening. Your job is to implement the actual convolution.\n",
    "2. Running the code might take some time, since convolution is a heavy computation. Eventually you will see a window popping up. The window will show 2x3 images. The first column is the original image and its spectrum. The second column should be the blurred image and its spectrum. The last column should be the sharpened image and its spectrum. Before any modification to the code, all three columns are the same. You can visually inspect the images to see if your implementation makes sense.\n",
    "5. You CANNOT use any other external library to implement convolution.\n",
    "\n",
    "## What and how to submit\n",
    "Please submit this Jupyter file to blackboard. Running the code will generate two files, “blur.csv” and “sharpen.csv”. You don’t need to upload those files. But our grading script will compare the content in those files with our “ground truth.\"\n",
    "\n",
    "## Grading scheme\n",
    "The code reads the fig.jpg file provided in the kit. You can certainly play with other images if you want, but our grading will be based on that image. Similarly, you can play with other convolution kernels, but our grading will be based only on the two provided in the code.\n",
    "You will get full scores if the output matches our ground truth. If not, we will examine your code and decide on a case by case basis how much partial credit you will get.\n",
    "Have fun!\n"
   ]
  },
  {
   "cell_type": "markdown",
   "id": "361ee969-56fe-476b-9af7-fbcf5841068b",
   "metadata": {},
   "source": [
    "## Modify this code!"
   ]
  },
  {
   "cell_type": "code",
   "execution_count": 10,
   "id": "3dc54a7d-ce2b-4466-be5a-4ed98f37cd62",
   "metadata": {},
   "outputs": [],
   "source": [
    "def conv2d(img, kernel):\n",
    "  ##### This is where you need to implement the convolution\n",
    "  ##### Right now it just returns the input image |img|\n",
    "  ##### Change it so that it returns the convolution of |img| and |kernel|\n",
    "  ##### You can assume no padding. That is, output dimension will be smaller than input dimension\n",
    "  ##### Don't change code elsewhere\n",
    "  conv_img = img;\n",
    "  return conv_img "
   ]
  },
  {
   "cell_type": "markdown",
   "id": "0d6932e7-ad08-4a3a-93a0-650d0abfed52",
   "metadata": {},
   "source": [
    "## Helper code"
   ]
  },
  {
   "cell_type": "code",
   "execution_count": 11,
   "id": "f76f3e1d-842a-43d3-b912-3d2a2751a7e5",
   "metadata": {},
   "outputs": [],
   "source": [
    "def display(img, id, title, axs):\n",
    "  # display image\n",
    "  axs[0][id].imshow(img, cmap='gray', vmin=0, vmax=255)\n",
    "  axs[0][id].axis('off')\n",
    "  axs[0][id].set_title(title)\n",
    "\n",
    "  # fft on the image\n",
    "  img_spec = np.fft.fft2(img)\n",
    "  # shift the zero-frequency coefficients to the center for better visualization.\n",
    "  img_spec = np.fft.fftshift(img_spec)\n",
    "  # show the magnitude of the coefficients (complex-valued numbers) in log scale\n",
    "  img_spec = np.log(1+np.abs(img_spec))\n",
    "\n",
    "  # display the spectrum\n",
    "  amax = int(np.amax(img_spec)) + 1\n",
    "  axs[1][id].imshow(img_spec, cmap='gray', vmin=0, vmax=amax)\n",
    "  axs[1][id].axis('off')"
   ]
  },
  {
   "cell_type": "markdown",
   "id": "d6ec9a2a-ab6c-493d-8bfb-343b942da51e",
   "metadata": {},
   "source": [
    "## Run this code to generate results"
   ]
  },
  {
   "cell_type": "code",
   "execution_count": null,
   "id": "9b81d69a-2145-411c-956a-8437a1524ea4",
   "metadata": {},
   "outputs": [],
   "source": [
    "fig,axs = plt.subplots(2,3)\n",
    "\n",
    "# read image\n",
    "img = imread('fig.jpg')\n",
    "# convert RGB to grayscale\n",
    "img = np.mean(img, -1);\n",
    "\n",
    "# display original image and its spectrum\n",
    "display(img, 0, 'Original', axs)\n",
    "\n",
    "# blur convolution\n",
    "blur_kernel = np.full((5, 5), 1/25)\n",
    "conv_img = conv2d(img, blur_kernel)\n",
    "display(conv_img, 1, 'Blur', axs)\n",
    "np.savetxt('blur.csv', conv_img)\n",
    "\n",
    "# sharpening convolution\n",
    "sharpen_kernel = np.full((5, 5), -1)\n",
    "sharpen_kernel[2][2] = 25\n",
    "conv_img = conv2d(img, sharpen_kernel)\n",
    "display(conv_img, 2, 'Sharpen', axs)\n",
    "np.savetxt('sharpen.csv', conv_img)\n",
    "\n",
    "plt.show()"
   ]
  }
 ],
 "metadata": {
  "kernelspec": {
   "display_name": "Python 3 (ipykernel)",
   "language": "python",
   "name": "python3"
  },
  "language_info": {
   "codemirror_mode": {
    "name": "ipython",
    "version": 3
   },
   "file_extension": ".py",
   "mimetype": "text/x-python",
   "name": "python",
   "nbconvert_exporter": "python",
   "pygments_lexer": "ipython3",
   "version": "3.10.11"
  }
 },
 "nbformat": 4,
 "nbformat_minor": 5
}
